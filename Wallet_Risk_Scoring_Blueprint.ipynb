{
  "nbformat": 4,
  "nbformat_minor": 0,
  "metadata": {
    "colab": {
      "provenance": []
    },
    "kernelspec": {
      "name": "python3",
      "display_name": "Python 3"
    },
    "language_info": {
      "name": "python"
    }
  },
  "cells": [
    {
      "cell_type": "code",
      "execution_count": 1,
      "metadata": {
        "colab": {
          "base_uri": "https://localhost:8080/"
        },
        "id": "eL-T3vmMUeVY",
        "outputId": "16586ea4-1ae6-4032-b97a-42b2e80ba409"
      },
      "outputs": [
        {
          "output_type": "stream",
          "name": "stdout",
          "text": [
            "Collecting gql\n",
            "  Downloading gql-3.5.3-py2.py3-none-any.whl.metadata (9.4 kB)\n",
            "Requirement already satisfied: requests in /usr/local/lib/python3.11/dist-packages (2.32.3)\n",
            "Requirement already satisfied: pandas in /usr/local/lib/python3.11/dist-packages (2.2.2)\n",
            "Requirement already satisfied: tqdm in /usr/local/lib/python3.11/dist-packages (4.67.1)\n",
            "Collecting graphql-core<3.2.7,>=3.2 (from gql)\n",
            "  Downloading graphql_core-3.2.6-py3-none-any.whl.metadata (11 kB)\n",
            "Requirement already satisfied: yarl<2.0,>=1.6 in /usr/local/lib/python3.11/dist-packages (from gql) (1.20.1)\n",
            "Collecting backoff<3.0,>=1.11.1 (from gql)\n",
            "  Downloading backoff-2.2.1-py3-none-any.whl.metadata (14 kB)\n",
            "Requirement already satisfied: anyio<5,>=3.0 in /usr/local/lib/python3.11/dist-packages (from gql) (4.9.0)\n",
            "Requirement already satisfied: charset-normalizer<4,>=2 in /usr/local/lib/python3.11/dist-packages (from requests) (3.4.2)\n",
            "Requirement already satisfied: idna<4,>=2.5 in /usr/local/lib/python3.11/dist-packages (from requests) (3.10)\n",
            "Requirement already satisfied: urllib3<3,>=1.21.1 in /usr/local/lib/python3.11/dist-packages (from requests) (2.5.0)\n",
            "Requirement already satisfied: certifi>=2017.4.17 in /usr/local/lib/python3.11/dist-packages (from requests) (2025.7.14)\n",
            "Requirement already satisfied: numpy>=1.23.2 in /usr/local/lib/python3.11/dist-packages (from pandas) (2.0.2)\n",
            "Requirement already satisfied: python-dateutil>=2.8.2 in /usr/local/lib/python3.11/dist-packages (from pandas) (2.9.0.post0)\n",
            "Requirement already satisfied: pytz>=2020.1 in /usr/local/lib/python3.11/dist-packages (from pandas) (2025.2)\n",
            "Requirement already satisfied: tzdata>=2022.7 in /usr/local/lib/python3.11/dist-packages (from pandas) (2025.2)\n",
            "Requirement already satisfied: sniffio>=1.1 in /usr/local/lib/python3.11/dist-packages (from anyio<5,>=3.0->gql) (1.3.1)\n",
            "Requirement already satisfied: typing_extensions>=4.5 in /usr/local/lib/python3.11/dist-packages (from anyio<5,>=3.0->gql) (4.14.1)\n",
            "Requirement already satisfied: six>=1.5 in /usr/local/lib/python3.11/dist-packages (from python-dateutil>=2.8.2->pandas) (1.17.0)\n",
            "Requirement already satisfied: multidict>=4.0 in /usr/local/lib/python3.11/dist-packages (from yarl<2.0,>=1.6->gql) (6.6.3)\n",
            "Requirement already satisfied: propcache>=0.2.1 in /usr/local/lib/python3.11/dist-packages (from yarl<2.0,>=1.6->gql) (0.3.2)\n",
            "Downloading gql-3.5.3-py2.py3-none-any.whl (74 kB)\n",
            "\u001b[2K   \u001b[90m━━━━━━━━━━━━━━━━━━━━━━━━━━━━━━━━━━━━━━━━\u001b[0m \u001b[32m74.3/74.3 kB\u001b[0m \u001b[31m2.5 MB/s\u001b[0m eta \u001b[36m0:00:00\u001b[0m\n",
            "\u001b[?25hDownloading backoff-2.2.1-py3-none-any.whl (15 kB)\n",
            "Downloading graphql_core-3.2.6-py3-none-any.whl (203 kB)\n",
            "\u001b[2K   \u001b[90m━━━━━━━━━━━━━━━━━━━━━━━━━━━━━━━━━━━━━━━━\u001b[0m \u001b[32m203.4/203.4 kB\u001b[0m \u001b[31m6.9 MB/s\u001b[0m eta \u001b[36m0:00:00\u001b[0m\n",
            "\u001b[?25hInstalling collected packages: graphql-core, backoff, gql\n",
            "Successfully installed backoff-2.2.1 gql-3.5.3 graphql-core-3.2.6\n"
          ]
        }
      ],
      "source": [
        "!pip install gql requests pandas tqdm"
      ]
    },
    {
      "cell_type": "code",
      "source": [
        "import pandas as pd\n",
        "import numpy as np\n",
        "from gql import gql, Client\n",
        "from gql.transport.requests import RequestsHTTPTransport\n",
        "from tqdm import tqdm"
      ],
      "metadata": {
        "id": "fvGWPbO3U86F"
      },
      "execution_count": 2,
      "outputs": []
    },
    {
      "cell_type": "code",
      "source": [
        "from google.colab import files\n",
        "uploaded = files.upload()"
      ],
      "metadata": {
        "colab": {
          "base_uri": "https://localhost:8080/",
          "height": 73
        },
        "id": "VQJm3kXfU-0K",
        "outputId": "6e7ca6f4-de6b-43dc-c0bc-18a0dfc2cc0b"
      },
      "execution_count": 3,
      "outputs": [
        {
          "output_type": "display_data",
          "data": {
            "text/plain": [
              "<IPython.core.display.HTML object>"
            ],
            "text/html": [
              "\n",
              "     <input type=\"file\" id=\"files-a8b2e5bf-c26b-49ab-aa2f-514079272006\" name=\"files[]\" multiple disabled\n",
              "        style=\"border:none\" />\n",
              "     <output id=\"result-a8b2e5bf-c26b-49ab-aa2f-514079272006\">\n",
              "      Upload widget is only available when the cell has been executed in the\n",
              "      current browser session. Please rerun this cell to enable.\n",
              "      </output>\n",
              "      <script>// Copyright 2017 Google LLC\n",
              "//\n",
              "// Licensed under the Apache License, Version 2.0 (the \"License\");\n",
              "// you may not use this file except in compliance with the License.\n",
              "// You may obtain a copy of the License at\n",
              "//\n",
              "//      http://www.apache.org/licenses/LICENSE-2.0\n",
              "//\n",
              "// Unless required by applicable law or agreed to in writing, software\n",
              "// distributed under the License is distributed on an \"AS IS\" BASIS,\n",
              "// WITHOUT WARRANTIES OR CONDITIONS OF ANY KIND, either express or implied.\n",
              "// See the License for the specific language governing permissions and\n",
              "// limitations under the License.\n",
              "\n",
              "/**\n",
              " * @fileoverview Helpers for google.colab Python module.\n",
              " */\n",
              "(function(scope) {\n",
              "function span(text, styleAttributes = {}) {\n",
              "  const element = document.createElement('span');\n",
              "  element.textContent = text;\n",
              "  for (const key of Object.keys(styleAttributes)) {\n",
              "    element.style[key] = styleAttributes[key];\n",
              "  }\n",
              "  return element;\n",
              "}\n",
              "\n",
              "// Max number of bytes which will be uploaded at a time.\n",
              "const MAX_PAYLOAD_SIZE = 100 * 1024;\n",
              "\n",
              "function _uploadFiles(inputId, outputId) {\n",
              "  const steps = uploadFilesStep(inputId, outputId);\n",
              "  const outputElement = document.getElementById(outputId);\n",
              "  // Cache steps on the outputElement to make it available for the next call\n",
              "  // to uploadFilesContinue from Python.\n",
              "  outputElement.steps = steps;\n",
              "\n",
              "  return _uploadFilesContinue(outputId);\n",
              "}\n",
              "\n",
              "// This is roughly an async generator (not supported in the browser yet),\n",
              "// where there are multiple asynchronous steps and the Python side is going\n",
              "// to poll for completion of each step.\n",
              "// This uses a Promise to block the python side on completion of each step,\n",
              "// then passes the result of the previous step as the input to the next step.\n",
              "function _uploadFilesContinue(outputId) {\n",
              "  const outputElement = document.getElementById(outputId);\n",
              "  const steps = outputElement.steps;\n",
              "\n",
              "  const next = steps.next(outputElement.lastPromiseValue);\n",
              "  return Promise.resolve(next.value.promise).then((value) => {\n",
              "    // Cache the last promise value to make it available to the next\n",
              "    // step of the generator.\n",
              "    outputElement.lastPromiseValue = value;\n",
              "    return next.value.response;\n",
              "  });\n",
              "}\n",
              "\n",
              "/**\n",
              " * Generator function which is called between each async step of the upload\n",
              " * process.\n",
              " * @param {string} inputId Element ID of the input file picker element.\n",
              " * @param {string} outputId Element ID of the output display.\n",
              " * @return {!Iterable<!Object>} Iterable of next steps.\n",
              " */\n",
              "function* uploadFilesStep(inputId, outputId) {\n",
              "  const inputElement = document.getElementById(inputId);\n",
              "  inputElement.disabled = false;\n",
              "\n",
              "  const outputElement = document.getElementById(outputId);\n",
              "  outputElement.innerHTML = '';\n",
              "\n",
              "  const pickedPromise = new Promise((resolve) => {\n",
              "    inputElement.addEventListener('change', (e) => {\n",
              "      resolve(e.target.files);\n",
              "    });\n",
              "  });\n",
              "\n",
              "  const cancel = document.createElement('button');\n",
              "  inputElement.parentElement.appendChild(cancel);\n",
              "  cancel.textContent = 'Cancel upload';\n",
              "  const cancelPromise = new Promise((resolve) => {\n",
              "    cancel.onclick = () => {\n",
              "      resolve(null);\n",
              "    };\n",
              "  });\n",
              "\n",
              "  // Wait for the user to pick the files.\n",
              "  const files = yield {\n",
              "    promise: Promise.race([pickedPromise, cancelPromise]),\n",
              "    response: {\n",
              "      action: 'starting',\n",
              "    }\n",
              "  };\n",
              "\n",
              "  cancel.remove();\n",
              "\n",
              "  // Disable the input element since further picks are not allowed.\n",
              "  inputElement.disabled = true;\n",
              "\n",
              "  if (!files) {\n",
              "    return {\n",
              "      response: {\n",
              "        action: 'complete',\n",
              "      }\n",
              "    };\n",
              "  }\n",
              "\n",
              "  for (const file of files) {\n",
              "    const li = document.createElement('li');\n",
              "    li.append(span(file.name, {fontWeight: 'bold'}));\n",
              "    li.append(span(\n",
              "        `(${file.type || 'n/a'}) - ${file.size} bytes, ` +\n",
              "        `last modified: ${\n",
              "            file.lastModifiedDate ? file.lastModifiedDate.toLocaleDateString() :\n",
              "                                    'n/a'} - `));\n",
              "    const percent = span('0% done');\n",
              "    li.appendChild(percent);\n",
              "\n",
              "    outputElement.appendChild(li);\n",
              "\n",
              "    const fileDataPromise = new Promise((resolve) => {\n",
              "      const reader = new FileReader();\n",
              "      reader.onload = (e) => {\n",
              "        resolve(e.target.result);\n",
              "      };\n",
              "      reader.readAsArrayBuffer(file);\n",
              "    });\n",
              "    // Wait for the data to be ready.\n",
              "    let fileData = yield {\n",
              "      promise: fileDataPromise,\n",
              "      response: {\n",
              "        action: 'continue',\n",
              "      }\n",
              "    };\n",
              "\n",
              "    // Use a chunked sending to avoid message size limits. See b/62115660.\n",
              "    let position = 0;\n",
              "    do {\n",
              "      const length = Math.min(fileData.byteLength - position, MAX_PAYLOAD_SIZE);\n",
              "      const chunk = new Uint8Array(fileData, position, length);\n",
              "      position += length;\n",
              "\n",
              "      const base64 = btoa(String.fromCharCode.apply(null, chunk));\n",
              "      yield {\n",
              "        response: {\n",
              "          action: 'append',\n",
              "          file: file.name,\n",
              "          data: base64,\n",
              "        },\n",
              "      };\n",
              "\n",
              "      let percentDone = fileData.byteLength === 0 ?\n",
              "          100 :\n",
              "          Math.round((position / fileData.byteLength) * 100);\n",
              "      percent.textContent = `${percentDone}% done`;\n",
              "\n",
              "    } while (position < fileData.byteLength);\n",
              "  }\n",
              "\n",
              "  // All done.\n",
              "  yield {\n",
              "    response: {\n",
              "      action: 'complete',\n",
              "    }\n",
              "  };\n",
              "}\n",
              "\n",
              "scope.google = scope.google || {};\n",
              "scope.google.colab = scope.google.colab || {};\n",
              "scope.google.colab._files = {\n",
              "  _uploadFiles,\n",
              "  _uploadFilesContinue,\n",
              "};\n",
              "})(self);\n",
              "</script> "
            ]
          },
          "metadata": {}
        },
        {
          "output_type": "stream",
          "name": "stdout",
          "text": [
            "Saving Wallet id - Sheet1.csv to Wallet id - Sheet1.csv\n"
          ]
        }
      ]
    },
    {
      "cell_type": "code",
      "source": [
        "wallet_df = pd.read_csv(next(iter(uploaded)))\n",
        "wallets = wallet_df.iloc[:, 0].tolist()"
      ],
      "metadata": {
        "id": "WXcTCGVlVBZ5"
      },
      "execution_count": 4,
      "outputs": []
    },
    {
      "cell_type": "code",
      "source": [
        "compound_v2_endpoint = \"https://api.thegraph.com/subgraphs/name/graphprotocol/compound-v2\""
      ],
      "metadata": {
        "id": "DA_WugXUVHX_"
      },
      "execution_count": 5,
      "outputs": []
    },
    {
      "cell_type": "code",
      "source": [
        "transport = RequestsHTTPTransport(url=compound_v2_endpoint, verify=True, retries=3)\n",
        "client = Client(transport=transport, fetch_schema_from_transport=True)"
      ],
      "metadata": {
        "id": "x9XvNV68VFEw"
      },
      "execution_count": 6,
      "outputs": []
    },
    {
      "cell_type": "code",
      "source": [
        "def fetch_wallet_data(wallet):\n",
        "    query = gql(f\"\"\"\n",
        "    {{\n",
        "      account(id: \"{wallet.lower()}\") {{\n",
        "        id\n",
        "        tokens {{\n",
        "          symbol\n",
        "          supplyBalanceUnderlying\n",
        "          borrowBalanceUnderlying\n",
        "          lifetimeBorrowInterestAccrued\n",
        "        }}\n",
        "      }}\n",
        "    }}\n",
        "    \"\"\")\n",
        "    try:\n",
        "        response = client.execute(query)\n",
        "        tokens = response.get(\"account\", {}).get(\"tokens\", [])\n",
        "        return tokens\n",
        "    except Exception as e:\n",
        "        print(f\"Error for wallet {wallet}: {e}\")\n",
        "        return []"
      ],
      "metadata": {
        "id": "k3AGWjCIVKo9"
      },
      "execution_count": 7,
      "outputs": []
    },
    {
      "cell_type": "code",
      "source": [
        "def extract_features(wallet_data):\n",
        "    supply = 0\n",
        "    borrow = 0\n",
        "    interest = 0\n",
        "    for token in wallet_data:\n",
        "        try:\n",
        "            supply += float(token.get(\"supplyBalanceUnderlying\", 0))\n",
        "            borrow += float(token.get(\"borrowBalanceUnderlying\", 0))\n",
        "            interest += float(token.get(\"lifetimeBorrowInterestAccrued\", 0))\n",
        "        except:\n",
        "            continue\n",
        "    utilization = borrow / supply if supply > 0 else 1.0\n",
        "    return supply, borrow, utilization, interest"
      ],
      "metadata": {
        "id": "O0Xg4PP4VOmw"
      },
      "execution_count": 8,
      "outputs": []
    },
    {
      "cell_type": "code",
      "source": [
        "wallet_records = []\n",
        "\n",
        "for wallet in tqdm(wallets):\n",
        "    tokens = fetch_wallet_data(wallet)\n",
        "    supply, borrow, utilization, interest = extract_features(tokens)\n",
        "    wallet_records.append({\n",
        "        \"wallet_id\": wallet,\n",
        "        \"supply\": supply,\n",
        "        \"borrow\": borrow,\n",
        "        \"utilization\": utilization,\n",
        "        \"interest\": interest\n",
        "    })\n",
        "\n",
        "df = pd.DataFrame(wallet_records)"
      ],
      "metadata": {
        "colab": {
          "base_uri": "https://localhost:8080/"
        },
        "id": "-RCjV6VkVQxA",
        "outputId": "20b96d4c-5c8b-40a5-a589-43519ab0a283"
      },
      "execution_count": 9,
      "outputs": [
        {
          "output_type": "stream",
          "name": "stderr",
          "text": [
            "  2%|▏         | 2/103 [00:00<00:18,  5.45it/s]"
          ]
        },
        {
          "output_type": "stream",
          "name": "stdout",
          "text": [
            "Error for wallet 0x0039f22efb07a647557c7c5d17854cfd6d489ef3: Error while fetching schema: {'message': 'This endpoint has been removed. If you have any questions, reach out to support@thegraph.zendesk.com'}\n",
            "If you don't need the schema, you can try with: \"fetch_schema_from_transport=False\"\n",
            "Error for wallet 0x06b51c6882b27cb05e712185531c1f74996dd988: Error while fetching schema: {'message': 'This endpoint has been removed. If you have any questions, reach out to support@thegraph.zendesk.com'}\n",
            "If you don't need the schema, you can try with: \"fetch_schema_from_transport=False\"\n"
          ]
        },
        {
          "output_type": "stream",
          "name": "stderr",
          "text": [
            "  4%|▍         | 4/103 [00:00<00:15,  6.29it/s]"
          ]
        },
        {
          "output_type": "stream",
          "name": "stdout",
          "text": [
            "Error for wallet 0x0795732aacc448030ef374374eaae57d2965c16c: Error while fetching schema: {'message': 'This endpoint has been removed. If you have any questions, reach out to support@thegraph.zendesk.com'}\n",
            "If you don't need the schema, you can try with: \"fetch_schema_from_transport=False\"\n",
            "Error for wallet 0x0aaa79f1a86bc8136cd0d1ca0d51964f4e3766f9: Error while fetching schema: {'message': 'This endpoint has been removed. If you have any questions, reach out to support@thegraph.zendesk.com'}\n",
            "If you don't need the schema, you can try with: \"fetch_schema_from_transport=False\"\n"
          ]
        },
        {
          "output_type": "stream",
          "name": "stderr",
          "text": [
            "\r  5%|▍         | 5/103 [00:00<00:19,  4.96it/s]"
          ]
        },
        {
          "output_type": "stream",
          "name": "stdout",
          "text": [
            "Error for wallet 0x0fe383e5abc200055a7f391f94a5f5d1f844b9ae: Error while fetching schema: {'message': 'This endpoint has been removed. If you have any questions, reach out to support@thegraph.zendesk.com'}\n",
            "If you don't need the schema, you can try with: \"fetch_schema_from_transport=False\"\n"
          ]
        },
        {
          "output_type": "stream",
          "name": "stderr",
          "text": [
            "  7%|▋         | 7/103 [00:01<00:21,  4.49it/s]"
          ]
        },
        {
          "output_type": "stream",
          "name": "stdout",
          "text": [
            "Error for wallet 0x104ae61d8d487ad689969a17807ddc338b445416: Error while fetching schema: {'message': 'This endpoint has been removed. If you have any questions, reach out to support@thegraph.zendesk.com'}\n",
            "If you don't need the schema, you can try with: \"fetch_schema_from_transport=False\"\n",
            "Error for wallet 0x111c7208a7e2af345d36b6d4aace8740d61a3078: Error while fetching schema: {'message': 'This endpoint has been removed. If you have any questions, reach out to support@thegraph.zendesk.com'}\n",
            "If you don't need the schema, you can try with: \"fetch_schema_from_transport=False\"\n"
          ]
        },
        {
          "output_type": "stream",
          "name": "stderr",
          "text": [
            "  9%|▊         | 9/103 [00:01<00:17,  5.46it/s]"
          ]
        },
        {
          "output_type": "stream",
          "name": "stdout",
          "text": [
            "Error for wallet 0x124853fecb522c57d9bd5c21231058696ca6d596: Error while fetching schema: {'message': 'This endpoint has been removed. If you have any questions, reach out to support@thegraph.zendesk.com'}\n",
            "If you don't need the schema, you can try with: \"fetch_schema_from_transport=False\"\n",
            "Error for wallet 0x13b1c8b0e696aff8b4fee742119b549b605f3cbc: Error while fetching schema: {'message': 'This endpoint has been removed. If you have any questions, reach out to support@thegraph.zendesk.com'}\n",
            "If you don't need the schema, you can try with: \"fetch_schema_from_transport=False\"\n"
          ]
        },
        {
          "output_type": "stream",
          "name": "stderr",
          "text": [
            "\r 10%|▉         | 10/103 [00:01<00:16,  5.77it/s]"
          ]
        },
        {
          "output_type": "stream",
          "name": "stdout",
          "text": [
            "Error for wallet 0x1656f1886c5ab634ac19568cd571bc72f385fdf7: Error while fetching schema: {'message': 'This endpoint has been removed. If you have any questions, reach out to support@thegraph.zendesk.com'}\n",
            "If you don't need the schema, you can try with: \"fetch_schema_from_transport=False\"\n"
          ]
        },
        {
          "output_type": "stream",
          "name": "stderr",
          "text": [
            " 12%|█▏        | 12/103 [00:02<00:15,  5.72it/s]"
          ]
        },
        {
          "output_type": "stream",
          "name": "stdout",
          "text": [
            "Error for wallet 0x1724e16cb8d0e2aa4d08035bc6b5c56b680a3b22: Error while fetching schema: {'message': 'This endpoint has been removed. If you have any questions, reach out to support@thegraph.zendesk.com'}\n",
            "If you don't need the schema, you can try with: \"fetch_schema_from_transport=False\"\n",
            "Error for wallet 0x19df3e87f73c4aaf4809295561465b993e102668: Error while fetching schema: {'message': 'This endpoint has been removed. If you have any questions, reach out to support@thegraph.zendesk.com'}\n",
            "If you don't need the schema, you can try with: \"fetch_schema_from_transport=False\"\n"
          ]
        },
        {
          "output_type": "stream",
          "name": "stderr",
          "text": [
            " 14%|█▎        | 14/103 [00:02<00:16,  5.52it/s]"
          ]
        },
        {
          "output_type": "stream",
          "name": "stdout",
          "text": [
            "Error for wallet 0x1ab2ccad4fc97c9968ea87d4435326715be32872: Error while fetching schema: {'message': 'This endpoint has been removed. If you have any questions, reach out to support@thegraph.zendesk.com'}\n",
            "If you don't need the schema, you can try with: \"fetch_schema_from_transport=False\"\n",
            "Error for wallet 0x1c1b30ca93ef57452d53885d97a74f61daf2bf4f: Error while fetching schema: {'message': 'This endpoint has been removed. If you have any questions, reach out to support@thegraph.zendesk.com'}\n",
            "If you don't need the schema, you can try with: \"fetch_schema_from_transport=False\"\n"
          ]
        },
        {
          "output_type": "stream",
          "name": "stderr",
          "text": [
            " 16%|█▌        | 16/103 [00:02<00:15,  5.67it/s]"
          ]
        },
        {
          "output_type": "stream",
          "name": "stdout",
          "text": [
            "Error for wallet 0x1e43dacdcf863676a6bec8f7d6896d6252fac669: Error while fetching schema: {'message': 'This endpoint has been removed. If you have any questions, reach out to support@thegraph.zendesk.com'}\n",
            "If you don't need the schema, you can try with: \"fetch_schema_from_transport=False\"\n",
            "Error for wallet 0x22d7510588d90ed5a87e0f838391aaafa707c34b: Error while fetching schema: {'message': 'This endpoint has been removed. If you have any questions, reach out to support@thegraph.zendesk.com'}\n",
            "If you don't need the schema, you can try with: \"fetch_schema_from_transport=False\"\n"
          ]
        },
        {
          "output_type": "stream",
          "name": "stderr",
          "text": [
            " 17%|█▋        | 18/103 [00:03<00:15,  5.65it/s]"
          ]
        },
        {
          "output_type": "stream",
          "name": "stdout",
          "text": [
            "Error for wallet 0x24b3460622d835c56d9a4fe352966b9bdc6c20af: Error while fetching schema: {'message': 'This endpoint has been removed. If you have any questions, reach out to support@thegraph.zendesk.com'}\n",
            "If you don't need the schema, you can try with: \"fetch_schema_from_transport=False\"\n",
            "Error for wallet 0x26750f1f4277221bdb5f6991473c6ece8c821f9d: Error while fetching schema: {'message': 'This endpoint has been removed. If you have any questions, reach out to support@thegraph.zendesk.com'}\n",
            "If you don't need the schema, you can try with: \"fetch_schema_from_transport=False\"\n"
          ]
        },
        {
          "output_type": "stream",
          "name": "stderr",
          "text": [
            "\r 18%|█▊        | 19/103 [00:03<00:14,  5.72it/s]"
          ]
        },
        {
          "output_type": "stream",
          "name": "stdout",
          "text": [
            "Error for wallet 0x27f72a000d8e9f324583f3a3491ea66998275b28: Error while fetching schema: {'message': 'This endpoint has been removed. If you have any questions, reach out to support@thegraph.zendesk.com'}\n",
            "If you don't need the schema, you can try with: \"fetch_schema_from_transport=False\"\n"
          ]
        },
        {
          "output_type": "stream",
          "name": "stderr",
          "text": [
            " 20%|██        | 21/103 [00:03<00:15,  5.44it/s]"
          ]
        },
        {
          "output_type": "stream",
          "name": "stdout",
          "text": [
            "Error for wallet 0x2844658bf341db96aa247259824f42025e3bcec2: Error while fetching schema: {'message': 'This endpoint has been removed. If you have any questions, reach out to support@thegraph.zendesk.com'}\n",
            "If you don't need the schema, you can try with: \"fetch_schema_from_transport=False\"\n",
            "Error for wallet 0x2a2fde3e1beb508fcf7c137a1d5965f13a17825e: Error while fetching schema: {'message': 'This endpoint has been removed. If you have any questions, reach out to support@thegraph.zendesk.com'}\n",
            "If you don't need the schema, you can try with: \"fetch_schema_from_transport=False\"\n"
          ]
        },
        {
          "output_type": "stream",
          "name": "stderr",
          "text": [
            " 22%|██▏       | 23/103 [00:04<00:14,  5.54it/s]"
          ]
        },
        {
          "output_type": "stream",
          "name": "stdout",
          "text": [
            "Error for wallet 0x330513970efd9e8dd606275fb4c50378989b3204: Error while fetching schema: {'message': 'This endpoint has been removed. If you have any questions, reach out to support@thegraph.zendesk.com'}\n",
            "If you don't need the schema, you can try with: \"fetch_schema_from_transport=False\"\n",
            "Error for wallet 0x3361bea43c2f5f963f81ac70f64e6fba1f1d2a97: Error while fetching schema: {'message': 'This endpoint has been removed. If you have any questions, reach out to support@thegraph.zendesk.com'}\n",
            "If you don't need the schema, you can try with: \"fetch_schema_from_transport=False\"\n"
          ]
        },
        {
          "output_type": "stream",
          "name": "stderr",
          "text": [
            " 24%|██▍       | 25/103 [00:04<00:13,  5.87it/s]"
          ]
        },
        {
          "output_type": "stream",
          "name": "stdout",
          "text": [
            "Error for wallet 0x3867d222ba91236ad4d12c31056626f9e798629c: Error while fetching schema: {'message': 'This endpoint has been removed. If you have any questions, reach out to support@thegraph.zendesk.com'}\n",
            "If you don't need the schema, you can try with: \"fetch_schema_from_transport=False\"\n",
            "Error for wallet 0x3a44be4581137019f83021eeee72b7dc57756069: Error while fetching schema: {'message': 'This endpoint has been removed. If you have any questions, reach out to support@thegraph.zendesk.com'}\n",
            "If you don't need the schema, you can try with: \"fetch_schema_from_transport=False\"\n"
          ]
        },
        {
          "output_type": "stream",
          "name": "stderr",
          "text": [
            " 26%|██▌       | 27/103 [00:05<00:14,  5.22it/s]"
          ]
        },
        {
          "output_type": "stream",
          "name": "stdout",
          "text": [
            "Error for wallet 0x3e69ad05716bdc834db72c4d6d44439a7c8a902b: Error while fetching schema: {'message': 'This endpoint has been removed. If you have any questions, reach out to support@thegraph.zendesk.com'}\n",
            "If you don't need the schema, you can try with: \"fetch_schema_from_transport=False\"\n",
            "Error for wallet 0x427f2ac5fdf4245e027d767e7c3ac272a1f40a65: Error while fetching schema: {'message': 'This endpoint has been removed. If you have any questions, reach out to support@thegraph.zendesk.com'}\n",
            "If you don't need the schema, you can try with: \"fetch_schema_from_transport=False\"\n"
          ]
        },
        {
          "output_type": "stream",
          "name": "stderr",
          "text": [
            " 28%|██▊       | 29/103 [00:05<00:14,  5.26it/s]"
          ]
        },
        {
          "output_type": "stream",
          "name": "stdout",
          "text": [
            "Error for wallet 0x4814be124d7fe3b240eb46061f7ddfab468fe122: Error while fetching schema: {'message': 'This endpoint has been removed. If you have any questions, reach out to support@thegraph.zendesk.com'}\n",
            "If you don't need the schema, you can try with: \"fetch_schema_from_transport=False\"\n",
            "Error for wallet 0x4839e666e2baf12a51bf004392b35972eeddeabf: Error while fetching schema: {'message': 'This endpoint has been removed. If you have any questions, reach out to support@thegraph.zendesk.com'}\n",
            "If you don't need the schema, you can try with: \"fetch_schema_from_transport=False\"\n"
          ]
        },
        {
          "output_type": "stream",
          "name": "stderr",
          "text": [
            " 30%|███       | 31/103 [00:05<00:12,  5.60it/s]"
          ]
        },
        {
          "output_type": "stream",
          "name": "stdout",
          "text": [
            "Error for wallet 0x4c4d05fe859279c91b074429b5fc451182cec745: Error while fetching schema: {'message': 'This endpoint has been removed. If you have any questions, reach out to support@thegraph.zendesk.com'}\n",
            "If you don't need the schema, you can try with: \"fetch_schema_from_transport=False\"\n",
            "Error for wallet 0x4d997c89bc659a3e8452038a8101161e7e7e53a7: Error while fetching schema: {'message': 'This endpoint has been removed. If you have any questions, reach out to support@thegraph.zendesk.com'}\n",
            "If you don't need the schema, you can try with: \"fetch_schema_from_transport=False\"\n"
          ]
        },
        {
          "output_type": "stream",
          "name": "stderr",
          "text": [
            " 32%|███▏      | 33/103 [00:06<00:11,  6.31it/s]"
          ]
        },
        {
          "output_type": "stream",
          "name": "stdout",
          "text": [
            "Error for wallet 0x4db0a72edb5ea6c55df929f76e7d5bb14e389860: Error while fetching schema: {'message': 'This endpoint has been removed. If you have any questions, reach out to support@thegraph.zendesk.com'}\n",
            "If you don't need the schema, you can try with: \"fetch_schema_from_transport=False\"\n",
            "Error for wallet 0x4e61251336c32e4fe6bfd5fab014846599321389: Error while fetching schema: {'message': 'This endpoint has been removed. If you have any questions, reach out to support@thegraph.zendesk.com'}\n",
            "If you don't need the schema, you can try with: \"fetch_schema_from_transport=False\"\n"
          ]
        },
        {
          "output_type": "stream",
          "name": "stderr",
          "text": [
            " 34%|███▍      | 35/103 [00:06<00:11,  5.99it/s]"
          ]
        },
        {
          "output_type": "stream",
          "name": "stdout",
          "text": [
            "Error for wallet 0x4e6e724f4163b24ffc7ffe662b5f6815b18b4210: Error while fetching schema: {'message': 'This endpoint has been removed. If you have any questions, reach out to support@thegraph.zendesk.com'}\n",
            "If you don't need the schema, you can try with: \"fetch_schema_from_transport=False\"\n",
            "Error for wallet 0x507b6c0d950702f066a9a1bd5e85206f87b065ba: Error while fetching schema: {'message': 'This endpoint has been removed. If you have any questions, reach out to support@thegraph.zendesk.com'}\n",
            "If you don't need the schema, you can try with: \"fetch_schema_from_transport=False\"\n"
          ]
        },
        {
          "output_type": "stream",
          "name": "stderr",
          "text": [
            " 36%|███▌      | 37/103 [00:06<00:11,  5.68it/s]"
          ]
        },
        {
          "output_type": "stream",
          "name": "stdout",
          "text": [
            "Error for wallet 0x54e19653be9d4143b08994906be0e27555e8834d: Error while fetching schema: {'message': 'This endpoint has been removed. If you have any questions, reach out to support@thegraph.zendesk.com'}\n",
            "If you don't need the schema, you can try with: \"fetch_schema_from_transport=False\"\n",
            "Error for wallet 0x56ba823641bfc317afc8459bf27feed6eb9ff59f: Error while fetching schema: {'message': 'This endpoint has been removed. If you have any questions, reach out to support@thegraph.zendesk.com'}\n",
            "If you don't need the schema, you can try with: \"fetch_schema_from_transport=False\"\n"
          ]
        },
        {
          "output_type": "stream",
          "name": "stderr",
          "text": [
            "\r 37%|███▋      | 38/103 [00:06<00:11,  5.50it/s]"
          ]
        },
        {
          "output_type": "stream",
          "name": "stdout",
          "text": [
            "Error for wallet 0x56cc2bffcb3f86a30c492f9d1a671a1f744d1d2f: Error while fetching schema: {'message': 'This endpoint has been removed. If you have any questions, reach out to support@thegraph.zendesk.com'}\n",
            "If you don't need the schema, you can try with: \"fetch_schema_from_transport=False\"\n"
          ]
        },
        {
          "output_type": "stream",
          "name": "stderr",
          "text": [
            " 39%|███▉      | 40/103 [00:07<00:11,  5.63it/s]"
          ]
        },
        {
          "output_type": "stream",
          "name": "stdout",
          "text": [
            "Error for wallet 0x578cea5f899b0dfbf05c7fbcfda1a644b2a47787: Error while fetching schema: {'message': 'This endpoint has been removed. If you have any questions, reach out to support@thegraph.zendesk.com'}\n",
            "If you don't need the schema, you can try with: \"fetch_schema_from_transport=False\"\n",
            "Error for wallet 0x58c2a9099a03750e9842d3e9a7780cdd6aa70b86: Error while fetching schema: {'message': 'This endpoint has been removed. If you have any questions, reach out to support@thegraph.zendesk.com'}\n",
            "If you don't need the schema, you can try with: \"fetch_schema_from_transport=False\"\n"
          ]
        },
        {
          "output_type": "stream",
          "name": "stderr",
          "text": [
            "\r 40%|███▉      | 41/103 [00:07<00:11,  5.63it/s]"
          ]
        },
        {
          "output_type": "stream",
          "name": "stdout",
          "text": [
            "Error for wallet 0x58d68d4bcf9725e40353379cec92b90332561683: Error while fetching schema: {'message': 'This endpoint has been removed. If you have any questions, reach out to support@thegraph.zendesk.com'}\n",
            "If you don't need the schema, you can try with: \"fetch_schema_from_transport=False\"\n"
          ]
        },
        {
          "output_type": "stream",
          "name": "stderr",
          "text": [
            " 42%|████▏     | 43/103 [00:07<00:10,  5.64it/s]"
          ]
        },
        {
          "output_type": "stream",
          "name": "stdout",
          "text": [
            "Error for wallet 0x5e324b4a564512ea7c93088dba2f8c1bf046a3eb: Error while fetching schema: {'message': 'This endpoint has been removed. If you have any questions, reach out to support@thegraph.zendesk.com'}\n",
            "If you don't need the schema, you can try with: \"fetch_schema_from_transport=False\"\n",
            "Error for wallet 0x612a3500559be7be7703de6dc397afb541a16f7f: Error while fetching schema: {'message': 'This endpoint has been removed. If you have any questions, reach out to support@thegraph.zendesk.com'}\n",
            "If you don't need the schema, you can try with: \"fetch_schema_from_transport=False\"\n"
          ]
        },
        {
          "output_type": "stream",
          "name": "stderr",
          "text": [
            " 44%|████▎     | 45/103 [00:08<00:10,  5.35it/s]"
          ]
        },
        {
          "output_type": "stream",
          "name": "stdout",
          "text": [
            "Error for wallet 0x623af911f493747c216ad389c7805a37019c662d: Error while fetching schema: {'message': 'This endpoint has been removed. If you have any questions, reach out to support@thegraph.zendesk.com'}\n",
            "If you don't need the schema, you can try with: \"fetch_schema_from_transport=False\"\n",
            "Error for wallet 0x6a2752a534faacaaa153bffbb973dd84e0e5497b: Error while fetching schema: {'message': 'This endpoint has been removed. If you have any questions, reach out to support@thegraph.zendesk.com'}\n",
            "If you don't need the schema, you can try with: \"fetch_schema_from_transport=False\"\n"
          ]
        },
        {
          "output_type": "stream",
          "name": "stderr",
          "text": [
            " 46%|████▌     | 47/103 [00:08<00:09,  5.93it/s]"
          ]
        },
        {
          "output_type": "stream",
          "name": "stdout",
          "text": [
            "Error for wallet 0x6d69ca3711e504658977367e13c300ab198379f1: Error while fetching schema: {'message': 'This endpoint has been removed. If you have any questions, reach out to support@thegraph.zendesk.com'}\n",
            "If you don't need the schema, you can try with: \"fetch_schema_from_transport=False\"\n",
            "Error for wallet 0x6e355417f7f56e7927d1cd971f0b5a1e6d538487: Error while fetching schema: {'message': 'This endpoint has been removed. If you have any questions, reach out to support@thegraph.zendesk.com'}\n",
            "If you don't need the schema, you can try with: \"fetch_schema_from_transport=False\"\n"
          ]
        },
        {
          "output_type": "stream",
          "name": "stderr",
          "text": [
            " 48%|████▊     | 49/103 [00:08<00:08,  6.18it/s]"
          ]
        },
        {
          "output_type": "stream",
          "name": "stdout",
          "text": [
            "Error for wallet 0x70c1864282599a762c674dd9d567b37e13bce755: Error while fetching schema: {'message': 'This endpoint has been removed. If you have any questions, reach out to support@thegraph.zendesk.com'}\n",
            "If you don't need the schema, you can try with: \"fetch_schema_from_transport=False\"\n",
            "Error for wallet 0x70d8e4ab175dfe0eab4e9a7f33e0a2d19f44001e: Error while fetching schema: {'message': 'This endpoint has been removed. If you have any questions, reach out to support@thegraph.zendesk.com'}\n",
            "If you don't need the schema, you can try with: \"fetch_schema_from_transport=False\"\n"
          ]
        },
        {
          "output_type": "stream",
          "name": "stderr",
          "text": [
            " 50%|████▉     | 51/103 [00:09<00:09,  5.53it/s]"
          ]
        },
        {
          "output_type": "stream",
          "name": "stdout",
          "text": [
            "Error for wallet 0x7399dbeebe2f88bc6ac4e3fd7ddb836a4bce322f: Error while fetching schema: {'message': 'This endpoint has been removed. If you have any questions, reach out to support@thegraph.zendesk.com'}\n",
            "If you don't need the schema, you can try with: \"fetch_schema_from_transport=False\"\n",
            "Error for wallet 0x767055590c73b7d2aaa6219da13807c493f91a20: Error while fetching schema: {'message': 'This endpoint has been removed. If you have any questions, reach out to support@thegraph.zendesk.com'}\n",
            "If you don't need the schema, you can try with: \"fetch_schema_from_transport=False\"\n"
          ]
        },
        {
          "output_type": "stream",
          "name": "stderr",
          "text": [
            " 51%|█████▏    | 53/103 [00:09<00:09,  5.54it/s]"
          ]
        },
        {
          "output_type": "stream",
          "name": "stdout",
          "text": [
            "Error for wallet 0x7851bdfb64bbecfb40c030d722a1f147dff5db6a: Error while fetching schema: {'message': 'This endpoint has been removed. If you have any questions, reach out to support@thegraph.zendesk.com'}\n",
            "If you don't need the schema, you can try with: \"fetch_schema_from_transport=False\"\n",
            "Error for wallet 0x7b4636320daa0bc055368a4f9b9d01bd8ac51877: Error while fetching schema: {'message': 'This endpoint has been removed. If you have any questions, reach out to support@thegraph.zendesk.com'}\n",
            "If you don't need the schema, you can try with: \"fetch_schema_from_transport=False\"\n"
          ]
        },
        {
          "output_type": "stream",
          "name": "stderr",
          "text": [
            " 53%|█████▎    | 55/103 [00:10<00:08,  5.47it/s]"
          ]
        },
        {
          "output_type": "stream",
          "name": "stdout",
          "text": [
            "Error for wallet 0x7b57dbe2f2e4912a29754ff3e412ed9507fd8957: Error while fetching schema: {'message': 'This endpoint has been removed. If you have any questions, reach out to support@thegraph.zendesk.com'}\n",
            "If you don't need the schema, you can try with: \"fetch_schema_from_transport=False\"\n",
            "Error for wallet 0x7be3dfb5b6fcbae542ea85e76cc19916a20f6c1e: Error while fetching schema: {'message': 'This endpoint has been removed. If you have any questions, reach out to support@thegraph.zendesk.com'}\n",
            "If you don't need the schema, you can try with: \"fetch_schema_from_transport=False\"\n"
          ]
        },
        {
          "output_type": "stream",
          "name": "stderr",
          "text": [
            " 55%|█████▌    | 57/103 [00:10<00:08,  5.71it/s]"
          ]
        },
        {
          "output_type": "stream",
          "name": "stdout",
          "text": [
            "Error for wallet 0x7de76a449cf60ea3e111ff18b28e516d89532152: Error while fetching schema: {'message': 'This endpoint has been removed. If you have any questions, reach out to support@thegraph.zendesk.com'}\n",
            "If you don't need the schema, you can try with: \"fetch_schema_from_transport=False\"\n",
            "Error for wallet 0x7e3eab408b9c76a13305ef34606f17c16f7b33cc: Error while fetching schema: {'message': 'This endpoint has been removed. If you have any questions, reach out to support@thegraph.zendesk.com'}\n",
            "If you don't need the schema, you can try with: \"fetch_schema_from_transport=False\"\n"
          ]
        },
        {
          "output_type": "stream",
          "name": "stderr",
          "text": [
            "\r 56%|█████▋    | 58/103 [00:10<00:07,  5.72it/s]"
          ]
        },
        {
          "output_type": "stream",
          "name": "stdout",
          "text": [
            "Error for wallet 0x7f5e6a28afc9fb0aaf4259d4ff69991b88ebea47: Error while fetching schema: {'message': 'This endpoint has been removed. If you have any questions, reach out to support@thegraph.zendesk.com'}\n",
            "If you don't need the schema, you can try with: \"fetch_schema_from_transport=False\"\n"
          ]
        },
        {
          "output_type": "stream",
          "name": "stderr",
          "text": [
            " 58%|█████▊    | 60/103 [00:10<00:08,  5.33it/s]"
          ]
        },
        {
          "output_type": "stream",
          "name": "stdout",
          "text": [
            "Error for wallet 0x83ea74c67d393c6894c34c464657bda2183a2f1a: Error while fetching schema: {'message': 'This endpoint has been removed. If you have any questions, reach out to support@thegraph.zendesk.com'}\n",
            "If you don't need the schema, you can try with: \"fetch_schema_from_transport=False\"\n",
            "Error for wallet 0x8441fecef5cc6f697be2c4fc4a36feacede8df67: Error while fetching schema: {'message': 'This endpoint has been removed. If you have any questions, reach out to support@thegraph.zendesk.com'}\n",
            "If you don't need the schema, you can try with: \"fetch_schema_from_transport=False\"\n"
          ]
        },
        {
          "output_type": "stream",
          "name": "stderr",
          "text": [
            " 60%|██████    | 62/103 [00:11<00:07,  5.76it/s]"
          ]
        },
        {
          "output_type": "stream",
          "name": "stdout",
          "text": [
            "Error for wallet 0x854a873b8f9bfac36a5eb9c648e285a095a7478d: Error while fetching schema: {'message': 'This endpoint has been removed. If you have any questions, reach out to support@thegraph.zendesk.com'}\n",
            "If you don't need the schema, you can try with: \"fetch_schema_from_transport=False\"\n",
            "Error for wallet 0x8587d9f794f06d976c2ec1cfd523983b856f5ca9: Error while fetching schema: {'message': 'This endpoint has been removed. If you have any questions, reach out to support@thegraph.zendesk.com'}\n",
            "If you don't need the schema, you can try with: \"fetch_schema_from_transport=False\"\n"
          ]
        },
        {
          "output_type": "stream",
          "name": "stderr",
          "text": [
            " 62%|██████▏   | 64/103 [00:11<00:06,  5.81it/s]"
          ]
        },
        {
          "output_type": "stream",
          "name": "stdout",
          "text": [
            "Error for wallet 0x880a0af12da55df1197f41697c1a1b61670ed410: Error while fetching schema: {'message': 'This endpoint has been removed. If you have any questions, reach out to support@thegraph.zendesk.com'}\n",
            "If you don't need the schema, you can try with: \"fetch_schema_from_transport=False\"\n",
            "Error for wallet 0x8aaece100580b749a20f8ce30338c4e0770b65ed: Error while fetching schema: {'message': 'This endpoint has been removed. If you have any questions, reach out to support@thegraph.zendesk.com'}\n",
            "If you don't need the schema, you can try with: \"fetch_schema_from_transport=False\"\n"
          ]
        },
        {
          "output_type": "stream",
          "name": "stderr",
          "text": [
            " 64%|██████▍   | 66/103 [00:11<00:05,  6.29it/s]"
          ]
        },
        {
          "output_type": "stream",
          "name": "stdout",
          "text": [
            "Error for wallet 0x8be38ea2b22b706aef313c2de81f7d179024dd30: Error while fetching schema: {'message': 'This endpoint has been removed. If you have any questions, reach out to support@thegraph.zendesk.com'}\n",
            "If you don't need the schema, you can try with: \"fetch_schema_from_transport=False\"\n",
            "Error for wallet 0x8d900f213db5205c529aaba5d10e71a0ed2646db: Error while fetching schema: {'message': 'This endpoint has been removed. If you have any questions, reach out to support@thegraph.zendesk.com'}\n",
            "If you don't need the schema, you can try with: \"fetch_schema_from_transport=False\"\n"
          ]
        },
        {
          "output_type": "stream",
          "name": "stderr",
          "text": [
            " 66%|██████▌   | 68/103 [00:12<00:05,  6.09it/s]"
          ]
        },
        {
          "output_type": "stream",
          "name": "stdout",
          "text": [
            "Error for wallet 0x91919344c1dad09772d19ad8ad4f1bcd29c51f27: Error while fetching schema: {'message': 'This endpoint has been removed. If you have any questions, reach out to support@thegraph.zendesk.com'}\n",
            "If you don't need the schema, you can try with: \"fetch_schema_from_transport=False\"\n",
            "Error for wallet 0x93f0891bf71d8abed78e0de0885bd26355bb8b1d: Error while fetching schema: {'message': 'This endpoint has been removed. If you have any questions, reach out to support@thegraph.zendesk.com'}\n",
            "If you don't need the schema, you can try with: \"fetch_schema_from_transport=False\"\n"
          ]
        },
        {
          "output_type": "stream",
          "name": "stderr",
          "text": [
            " 68%|██████▊   | 70/103 [00:12<00:05,  5.89it/s]"
          ]
        },
        {
          "output_type": "stream",
          "name": "stdout",
          "text": [
            "Error for wallet 0x96479b087cb8f236a5e2dcbfc50ce63b2f421da6: Error while fetching schema: {'message': 'This endpoint has been removed. If you have any questions, reach out to support@thegraph.zendesk.com'}\n",
            "If you don't need the schema, you can try with: \"fetch_schema_from_transport=False\"\n",
            "Error for wallet 0x96bb4447a02b95f1d1e85374cffd565eb22ed2f8: Error while fetching schema: {'message': 'This endpoint has been removed. If you have any questions, reach out to support@thegraph.zendesk.com'}\n",
            "If you don't need the schema, you can try with: \"fetch_schema_from_transport=False\"\n"
          ]
        },
        {
          "output_type": "stream",
          "name": "stderr",
          "text": [
            " 70%|██████▉   | 72/103 [00:12<00:05,  5.87it/s]"
          ]
        },
        {
          "output_type": "stream",
          "name": "stdout",
          "text": [
            "Error for wallet 0x9a363adc5d382c04d36b09158286328f75672098: Error while fetching schema: {'message': 'This endpoint has been removed. If you have any questions, reach out to support@thegraph.zendesk.com'}\n",
            "If you don't need the schema, you can try with: \"fetch_schema_from_transport=False\"\n",
            "Error for wallet 0x9ad1331c5b6c5a641acffb32719c66a80c6e1a17: Error while fetching schema: {'message': 'This endpoint has been removed. If you have any questions, reach out to support@thegraph.zendesk.com'}\n",
            "If you don't need the schema, you can try with: \"fetch_schema_from_transport=False\"\n"
          ]
        },
        {
          "output_type": "stream",
          "name": "stderr",
          "text": [
            " 72%|███████▏  | 74/103 [00:13<00:05,  5.76it/s]"
          ]
        },
        {
          "output_type": "stream",
          "name": "stdout",
          "text": [
            "Error for wallet 0x9ba0d85f71e145ccf15225e59631e5a883d5d74a: Error while fetching schema: {'message': 'This endpoint has been removed. If you have any questions, reach out to support@thegraph.zendesk.com'}\n",
            "If you don't need the schema, you can try with: \"fetch_schema_from_transport=False\"\n",
            "Error for wallet 0x9e6ec4e98793970a1307262ba68d37594e58cd78: Error while fetching schema: {'message': 'This endpoint has been removed. If you have any questions, reach out to support@thegraph.zendesk.com'}\n",
            "If you don't need the schema, you can try with: \"fetch_schema_from_transport=False\"\n"
          ]
        },
        {
          "output_type": "stream",
          "name": "stderr",
          "text": [
            " 74%|███████▍  | 76/103 [00:13<00:05,  5.28it/s]"
          ]
        },
        {
          "output_type": "stream",
          "name": "stdout",
          "text": [
            "Error for wallet 0xa7e94d933eb0c439dda357f61244a485246e97b8: Error while fetching schema: {'message': 'This endpoint has been removed. If you have any questions, reach out to support@thegraph.zendesk.com'}\n",
            "If you don't need the schema, you can try with: \"fetch_schema_from_transport=False\"\n",
            "Error for wallet 0xa7f3c74f0255796fd5d3ddcf88db769f7a6bf46a: Error while fetching schema: {'message': 'This endpoint has been removed. If you have any questions, reach out to support@thegraph.zendesk.com'}\n",
            "If you don't need the schema, you can try with: \"fetch_schema_from_transport=False\"\n"
          ]
        },
        {
          "output_type": "stream",
          "name": "stderr",
          "text": [
            " 76%|███████▌  | 78/103 [00:14<00:04,  5.06it/s]"
          ]
        },
        {
          "output_type": "stream",
          "name": "stdout",
          "text": [
            "Error for wallet 0xa98dc64bb42575efec7d1e4560c029231ce5da51: Error while fetching schema: {'message': 'This endpoint has been removed. If you have any questions, reach out to support@thegraph.zendesk.com'}\n",
            "If you don't need the schema, you can try with: \"fetch_schema_from_transport=False\"\n",
            "Error for wallet 0xb271ff7090b39028eb6e711c3f89a3453d5861ee: Error while fetching schema: {'message': 'This endpoint has been removed. If you have any questions, reach out to support@thegraph.zendesk.com'}\n",
            "If you don't need the schema, you can try with: \"fetch_schema_from_transport=False\"\n"
          ]
        },
        {
          "output_type": "stream",
          "name": "stderr",
          "text": [
            "\r 77%|███████▋  | 79/103 [00:14<00:04,  4.85it/s]"
          ]
        },
        {
          "output_type": "stream",
          "name": "stdout",
          "text": [
            "Error for wallet 0xb475576594ae44e1f75f534f993cbb7673e4c8b6: Error while fetching schema: {'message': 'This endpoint has been removed. If you have any questions, reach out to support@thegraph.zendesk.com'}\n",
            "If you don't need the schema, you can try with: \"fetch_schema_from_transport=False\"\n"
          ]
        },
        {
          "output_type": "stream",
          "name": "stderr",
          "text": [
            "\r 78%|███████▊  | 80/103 [00:14<00:05,  4.55it/s]"
          ]
        },
        {
          "output_type": "stream",
          "name": "stdout",
          "text": [
            "Error for wallet 0xb57297c5d02def954794e593db93d0a302e43e5c: Error while fetching schema: {'message': 'This endpoint has been removed. If you have any questions, reach out to support@thegraph.zendesk.com'}\n",
            "If you don't need the schema, you can try with: \"fetch_schema_from_transport=False\"\n"
          ]
        },
        {
          "output_type": "stream",
          "name": "stderr",
          "text": [
            " 80%|███████▉  | 82/103 [00:15<00:04,  4.51it/s]"
          ]
        },
        {
          "output_type": "stream",
          "name": "stdout",
          "text": [
            "Error for wallet 0xbd4a00764217c13a246f86db58d74541a0c3972a: Error while fetching schema: {'message': 'This endpoint has been removed. If you have any questions, reach out to support@thegraph.zendesk.com'}\n",
            "If you don't need the schema, you can try with: \"fetch_schema_from_transport=False\"\n",
            "Error for wallet 0xc179d55f7e00e789915760f7d260a1bf6285278b: Error while fetching schema: {'message': 'This endpoint has been removed. If you have any questions, reach out to support@thegraph.zendesk.com'}\n",
            "If you don't need the schema, you can try with: \"fetch_schema_from_transport=False\"\n"
          ]
        },
        {
          "output_type": "stream",
          "name": "stderr",
          "text": [
            " 82%|████████▏ | 84/103 [00:15<00:03,  5.51it/s]"
          ]
        },
        {
          "output_type": "stream",
          "name": "stdout",
          "text": [
            "Error for wallet 0xc22b8e78394ce52e0034609a67ae3c959daa84bc: Error while fetching schema: {'message': 'This endpoint has been removed. If you have any questions, reach out to support@thegraph.zendesk.com'}\n",
            "If you don't need the schema, you can try with: \"fetch_schema_from_transport=False\"\n",
            "Error for wallet 0xcbbd9fe837a14258286bbf2e182cbc4e4518c5a3: Error while fetching schema: {'message': 'This endpoint has been removed. If you have any questions, reach out to support@thegraph.zendesk.com'}\n",
            "If you don't need the schema, you can try with: \"fetch_schema_from_transport=False\"\n"
          ]
        },
        {
          "output_type": "stream",
          "name": "stderr",
          "text": [
            " 83%|████████▎ | 86/103 [00:15<00:02,  5.87it/s]"
          ]
        },
        {
          "output_type": "stream",
          "name": "stdout",
          "text": [
            "Error for wallet 0xcecf5163bb057c1aff4963d9b9a7d2f0bf591710: Error while fetching schema: {'message': 'This endpoint has been removed. If you have any questions, reach out to support@thegraph.zendesk.com'}\n",
            "If you don't need the schema, you can try with: \"fetch_schema_from_transport=False\"\n",
            "Error for wallet 0xcf0033bf27804640e5339e06443e208db5870dd2: Error while fetching schema: {'message': 'This endpoint has been removed. If you have any questions, reach out to support@thegraph.zendesk.com'}\n",
            "If you don't need the schema, you can try with: \"fetch_schema_from_transport=False\"\n"
          ]
        },
        {
          "output_type": "stream",
          "name": "stderr",
          "text": [
            "\r 84%|████████▍ | 87/103 [00:15<00:02,  5.99it/s]"
          ]
        },
        {
          "output_type": "stream",
          "name": "stdout",
          "text": [
            "Error for wallet 0xd0df53e296c1e3115fccc3d7cdf4ba495e593b56: Error while fetching schema: {'message': 'This endpoint has been removed. If you have any questions, reach out to support@thegraph.zendesk.com'}\n",
            "If you don't need the schema, you can try with: \"fetch_schema_from_transport=False\"\n"
          ]
        },
        {
          "output_type": "stream",
          "name": "stderr",
          "text": [
            " 86%|████████▋ | 89/103 [00:16<00:02,  5.01it/s]"
          ]
        },
        {
          "output_type": "stream",
          "name": "stdout",
          "text": [
            "Error for wallet 0xd1a3888fd8f490367c6104e10b4154427c02dd9c: Error while fetching schema: {'message': 'This endpoint has been removed. If you have any questions, reach out to support@thegraph.zendesk.com'}\n",
            "If you don't need the schema, you can try with: \"fetch_schema_from_transport=False\"\n",
            "Error for wallet 0xd334d18fa6bada9a10f361bae42a019ce88a3c33: Error while fetching schema: {'message': 'This endpoint has been removed. If you have any questions, reach out to support@thegraph.zendesk.com'}\n",
            "If you don't need the schema, you can try with: \"fetch_schema_from_transport=False\"\n"
          ]
        },
        {
          "output_type": "stream",
          "name": "stderr",
          "text": [
            " 88%|████████▊ | 91/103 [00:16<00:02,  5.60it/s]"
          ]
        },
        {
          "output_type": "stream",
          "name": "stdout",
          "text": [
            "Error for wallet 0xd9d3930ffa343f5a0eec7606d045d0843d3a02b4: Error while fetching schema: {'message': 'This endpoint has been removed. If you have any questions, reach out to support@thegraph.zendesk.com'}\n",
            "If you don't need the schema, you can try with: \"fetch_schema_from_transport=False\"\n",
            "Error for wallet 0xdde73df7bd4d704a89ad8421402701b3a460c6e9: Error while fetching schema: {'message': 'This endpoint has been removed. If you have any questions, reach out to support@thegraph.zendesk.com'}\n",
            "If you don't need the schema, you can try with: \"fetch_schema_from_transport=False\"\n"
          ]
        },
        {
          "output_type": "stream",
          "name": "stderr",
          "text": [
            " 90%|█████████ | 93/103 [00:16<00:01,  5.98it/s]"
          ]
        },
        {
          "output_type": "stream",
          "name": "stdout",
          "text": [
            "Error for wallet 0xde92d70253604fd8c5998c8ee3ed282a41b33b7f: Error while fetching schema: {'message': 'This endpoint has been removed. If you have any questions, reach out to support@thegraph.zendesk.com'}\n",
            "If you don't need the schema, you can try with: \"fetch_schema_from_transport=False\"\n",
            "Error for wallet 0xded1f838ae6aa5fcd0f13481b37ee88e5bdccb3d: Error while fetching schema: {'message': 'This endpoint has been removed. If you have any questions, reach out to support@thegraph.zendesk.com'}\n",
            "If you don't need the schema, you can try with: \"fetch_schema_from_transport=False\"\n"
          ]
        },
        {
          "output_type": "stream",
          "name": "stderr",
          "text": [
            " 92%|█████████▏| 95/103 [00:17<00:01,  6.07it/s]"
          ]
        },
        {
          "output_type": "stream",
          "name": "stdout",
          "text": [
            "Error for wallet 0xebb8629e8a3ec86cf90cb7600264415640834483: Error while fetching schema: {'message': 'This endpoint has been removed. If you have any questions, reach out to support@thegraph.zendesk.com'}\n",
            "If you don't need the schema, you can try with: \"fetch_schema_from_transport=False\"\n",
            "Error for wallet 0xeded1c8c0a0c532195b8432153f3bfa81dba2a90: Error while fetching schema: {'message': 'This endpoint has been removed. If you have any questions, reach out to support@thegraph.zendesk.com'}\n",
            "If you don't need the schema, you can try with: \"fetch_schema_from_transport=False\"\n"
          ]
        },
        {
          "output_type": "stream",
          "name": "stderr",
          "text": [
            " 94%|█████████▍| 97/103 [00:17<00:01,  5.89it/s]"
          ]
        },
        {
          "output_type": "stream",
          "name": "stdout",
          "text": [
            "Error for wallet 0xf10fd8921019615a856c1e95c7cd3632de34edc4: Error while fetching schema: {'message': 'This endpoint has been removed. If you have any questions, reach out to support@thegraph.zendesk.com'}\n",
            "If you don't need the schema, you can try with: \"fetch_schema_from_transport=False\"\n",
            "Error for wallet 0xf340b9f2098f80b86fbc5ede586c319473aa11f3: Error while fetching schema: {'message': 'This endpoint has been removed. If you have any questions, reach out to support@thegraph.zendesk.com'}\n",
            "If you don't need the schema, you can try with: \"fetch_schema_from_transport=False\"\n"
          ]
        },
        {
          "output_type": "stream",
          "name": "stderr",
          "text": [
            "\r 95%|█████████▌| 98/103 [00:17<00:00,  5.67it/s]"
          ]
        },
        {
          "output_type": "stream",
          "name": "stdout",
          "text": [
            "Error for wallet 0xf54f36bca969800fd7d63a68029561309938c09b: Error while fetching schema: {'message': 'This endpoint has been removed. If you have any questions, reach out to support@thegraph.zendesk.com'}\n",
            "If you don't need the schema, you can try with: \"fetch_schema_from_transport=False\"\n"
          ]
        },
        {
          "output_type": "stream",
          "name": "stderr",
          "text": [
            " 97%|█████████▋| 100/103 [00:18<00:00,  5.24it/s]"
          ]
        },
        {
          "output_type": "stream",
          "name": "stdout",
          "text": [
            "Error for wallet 0xf60304b534f74977e159b2e159e135475c245526: Error while fetching schema: {'message': 'This endpoint has been removed. If you have any questions, reach out to support@thegraph.zendesk.com'}\n",
            "If you don't need the schema, you can try with: \"fetch_schema_from_transport=False\"\n",
            "Error for wallet 0xf67e8e5805835465f7eba988259db882ab726800: Error while fetching schema: {'message': 'This endpoint has been removed. If you have any questions, reach out to support@thegraph.zendesk.com'}\n",
            "If you don't need the schema, you can try with: \"fetch_schema_from_transport=False\"\n"
          ]
        },
        {
          "output_type": "stream",
          "name": "stderr",
          "text": [
            "\r 98%|█████████▊| 101/103 [00:18<00:00,  4.98it/s]"
          ]
        },
        {
          "output_type": "stream",
          "name": "stdout",
          "text": [
            "Error for wallet 0xf7aa5d0752cfcd41b0a5945867d619a80c405e52: Error while fetching schema: {'message': 'This endpoint has been removed. If you have any questions, reach out to support@thegraph.zendesk.com'}\n",
            "If you don't need the schema, you can try with: \"fetch_schema_from_transport=False\"\n"
          ]
        },
        {
          "output_type": "stream",
          "name": "stderr",
          "text": [
            "100%|██████████| 103/103 [00:18<00:00,  5.47it/s]"
          ]
        },
        {
          "output_type": "stream",
          "name": "stdout",
          "text": [
            "Error for wallet 0xf80a8b9cfff0febf49914c269fb8aead4a22f847: Error while fetching schema: {'message': 'This endpoint has been removed. If you have any questions, reach out to support@thegraph.zendesk.com'}\n",
            "If you don't need the schema, you can try with: \"fetch_schema_from_transport=False\"\n",
            "Error for wallet 0xfe5a05c0f8b24fca15a7306f6a4ebb7dcf2186ac: Error while fetching schema: {'message': 'This endpoint has been removed. If you have any questions, reach out to support@thegraph.zendesk.com'}\n",
            "If you don't need the schema, you can try with: \"fetch_schema_from_transport=False\"\n"
          ]
        },
        {
          "output_type": "stream",
          "name": "stderr",
          "text": [
            "\n"
          ]
        }
      ]
    },
    {
      "cell_type": "code",
      "source": [
        "def normalize(col):\n",
        "    return (col - col.min()) / (col.max() - col.min() + 1e-9)\n",
        "\n",
        "df['norm_borrow'] = normalize(df['borrow'])\n",
        "df['norm_util'] = normalize(df['utilization'])\n",
        "df['norm_interest'] = normalize(df['interest'])"
      ],
      "metadata": {
        "id": "jHfd1uigVTOE"
      },
      "execution_count": 10,
      "outputs": []
    },
    {
      "cell_type": "code",
      "source": [
        "df['score_raw'] = (\n",
        "    df['norm_borrow'] * 0.3 +\n",
        "    df['norm_util'] * 0.4 +\n",
        "    df['norm_interest'] * 0.3\n",
        ")\n",
        "\n",
        "df['score'] = (df['score_raw'] * 1000).astype(int)"
      ],
      "metadata": {
        "id": "OH0pUbTUVVP_"
      },
      "execution_count": 11,
      "outputs": []
    },
    {
      "cell_type": "code",
      "source": [
        "final_df = df[['wallet_id', 'score']]\n",
        "final_df.to_csv(\"wallet_risk_scores.csv\", index=False)\n",
        "print(\"✅ Saved as wallet_risk_scores.csv\")"
      ],
      "metadata": {
        "colab": {
          "base_uri": "https://localhost:8080/"
        },
        "id": "m8H9P164VaBn",
        "outputId": "51f0d9c5-bc81-4e94-8d36-5dcba844ce6d"
      },
      "execution_count": 12,
      "outputs": [
        {
          "output_type": "stream",
          "name": "stdout",
          "text": [
            "✅ Saved as wallet_risk_scores.csv\n"
          ]
        }
      ]
    },
    {
      "cell_type": "code",
      "source": [
        "from google.colab import files\n",
        "files.download(\"wallet_risk_scores.csv\")"
      ],
      "metadata": {
        "colab": {
          "base_uri": "https://localhost:8080/",
          "height": 17
        },
        "id": "NBV0yF_DVcsJ",
        "outputId": "8a9d9102-ea44-4cf6-8c2e-65f53310d434"
      },
      "execution_count": 13,
      "outputs": [
        {
          "output_type": "display_data",
          "data": {
            "text/plain": [
              "<IPython.core.display.Javascript object>"
            ],
            "application/javascript": [
              "\n",
              "    async function download(id, filename, size) {\n",
              "      if (!google.colab.kernel.accessAllowed) {\n",
              "        return;\n",
              "      }\n",
              "      const div = document.createElement('div');\n",
              "      const label = document.createElement('label');\n",
              "      label.textContent = `Downloading \"${filename}\": `;\n",
              "      div.appendChild(label);\n",
              "      const progress = document.createElement('progress');\n",
              "      progress.max = size;\n",
              "      div.appendChild(progress);\n",
              "      document.body.appendChild(div);\n",
              "\n",
              "      const buffers = [];\n",
              "      let downloaded = 0;\n",
              "\n",
              "      const channel = await google.colab.kernel.comms.open(id);\n",
              "      // Send a message to notify the kernel that we're ready.\n",
              "      channel.send({})\n",
              "\n",
              "      for await (const message of channel.messages) {\n",
              "        // Send a message to notify the kernel that we're ready.\n",
              "        channel.send({})\n",
              "        if (message.buffers) {\n",
              "          for (const buffer of message.buffers) {\n",
              "            buffers.push(buffer);\n",
              "            downloaded += buffer.byteLength;\n",
              "            progress.value = downloaded;\n",
              "          }\n",
              "        }\n",
              "      }\n",
              "      const blob = new Blob(buffers, {type: 'application/binary'});\n",
              "      const a = document.createElement('a');\n",
              "      a.href = window.URL.createObjectURL(blob);\n",
              "      a.download = filename;\n",
              "      div.appendChild(a);\n",
              "      a.click();\n",
              "      div.remove();\n",
              "    }\n",
              "  "
            ]
          },
          "metadata": {}
        },
        {
          "output_type": "display_data",
          "data": {
            "text/plain": [
              "<IPython.core.display.Javascript object>"
            ],
            "application/javascript": [
              "download(\"download_c99504de-58cb-495e-b350-2f37fb3dd360\", \"wallet_risk_scores.csv\", 4651)"
            ]
          },
          "metadata": {}
        }
      ]
    }
  ]
}